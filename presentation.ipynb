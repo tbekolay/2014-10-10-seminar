{
 "cells": [
  {
   "cell_type": "code",
   "execution_count": null,
   "metadata": {
    "collapsed": false,
    "slideshow": {
     "slide_type": "skip"
    }
   },
   "outputs": [],
   "source": [
    "%matplotlib inline\n",
    "import numpy as np\n",
    "import matplotlib.pyplot as plt\n",
    "from JSAnimation import IPython_display\n",
    "from ipywidgets import StaticInteract, RangeWidget, RadioWidget\n",
    "from IPython.display import Audio\n",
    "from skspeech.synthesis.articulatory.kroger import *\n",
    "\n",
    "plt.rc('figure', max_open_warning=-1)\n",
    "\n",
    "def compare(contour, articulators, highlight=\"tongue\", figsize=(8, 6)):\n",
    "    plt.figure(figsize=figsize)\n",
    "    ax = plt.subplot(121)\n",
    "    plot_sagittal(structure, contour, ax=ax, highlight=highlight)\n",
    "    ax = plt.subplot(122)\n",
    "    art_contour = SagittalContours.from_articulators(articulators)\n",
    "    plot_sagittal(structure, art_contour, ax=ax, highlight=highlight)\n",
    "    \n",
    "def set_vowel(art, vowel=\"neutral\"):\n",
    "    if vowel == 'a':\n",
    "        art.toDors1 = -1000\n",
    "    elif vowel == 'i':\n",
    "        art.toDors1 = 1000\n",
    "        art.toDors2 = 1000\n",
    "    elif vowel == 'u':\n",
    "        art.toDors1 = 1000\n",
    "        art.toDors2 = -1000\n",
    "        art.lips2 = 1000\n",
    "    else:\n",
    "        art.toDors1 = 0\n",
    "        art.toDors2 = 0\n",
    "\n",
    "def gaussian(x, mean, var):\n",
    "    return np.exp(-np.power(x - mean, 2.) / (2 * np.power(var, 2.)))\n",
    "\n",
    "t = np.arange(0, 805, 5)\n",
    "ga = Articulators(np.zeros((11, t.size)))\n",
    "ga.toDors3 = gaussian(t, 120, 60) * 1000\n",
    "ga.toDors1 = np.array([-2, -6, -12, -20, -30, -42, -55, -69, -84, -100, -117,\n",
    "                       -135, -154, -173, -193, -213, -234, -255, -277, -299,\n",
    "                       -321, -343, -366, -389, -412, -435, -459, -483, -507,\n",
    "                       -531, -555, -579, -601, -620, -638, -654, -668, -681, \n",
    "                       -692, -702, -711, -719, -727, -734, -740, -746, -751,\n",
    "                       -755, -759, -763, -766, -769, -772, -774, -776, -778, \n",
    "                       -780, -782, -783, -784, -785, -786, -787, -788, -789,\n",
    "                       -790, -791, -791, -791, -791, -791, -791, -791, -791, \n",
    "                       -791, -791, -791, -791, -791, -791, -791, -791, -791,\n",
    "                       -791, -791, -791, -791, -791, -789, -786, -781, -774,\n",
    "                       -766, -757, -747, -736, -724, -711, -697, -683, -668,\n",
    "                       -653, -637, -621, -604, -587, -570, -553, -535, -517,\n",
    "                       -499, -481, -462, -443, -424, -405, -386, -367, -348,\n",
    "                       -329, -310, -291, -271, -251, -231, -211, -191, -171,\n",
    "                       -153, -137, -123, -110, -99, -89, -80, -72, -64, -57,\n",
    "                       -51, -45, -40, -36, -32, -28, -25, -22, -19, -17, -15,\n",
    "                       -13, -11, -9, -8, -7, -6, -5, 0, -5, -5, -5, -5])\n",
    "ga.toDors2 = np.array([0, -1, -2, -4, -6, -9, -12, -15, -19, -23, -27, -31,\n",
    "                       -36, -41, -46, -51, -56, -61, -66, -71, -77, -83, -89,\n",
    "                       -95, -101, -107, -113, -119, -125, -131, -137, -143,\n",
    "                       -148, -153, -157, -161, -164, -167, -170, -173, -175,\n",
    "                       -177, -179, -181, -182, -183, -184, -185, -186, -187,\n",
    "                       -188, -189, -190, -191, -191, -191, -191, -191, -191,\n",
    "                       -191, -191, -191, -191, -191, -191, -191, -191, -191,\n",
    "                       -191, -191, -191, -191, -191, -191, -191, -191, -191,\n",
    "                       -191, -191, -191, -191, -191, -191, -191, -191, -191,\n",
    "                       -191, -191, -191, -190, -189, -188, -186, -184, -182,\n",
    "                       -179, -176, -173, -170, -167, -163, -159, -155, -151,\n",
    "                       -147, -143, -139, -135, -131, -126, -121, -116, -111,\n",
    "                       -106, -101, -96, -91, -86, -81, -76, -71, -66, -61, -56,\n",
    "                       -51, -46, -41, -36, -32, -28, -25, -22, -19, -17, -15,\n",
    "                       -13, -11, -9, -8, -7, -6, -5, -4, -3, -2, -1, 0, 0, 0,\n",
    "                       0, 0, 0, 0, 0, 0, 0, 0, 0, 0, 0, 0])\n",
    "ga.voFoTen = 600\n",
    "ga.voFoPos = 800\n",
    "ga.voFoPos[:, int(t.shape[0] * 0.1): int(t.shape[0] * 0.9)] = 10\n",
    "upline, lowline = midline(structure, SagittalContours.from_articulators(ga))"
   ]
  },
  {
   "cell_type": "markdown",
   "metadata": {
    "slideshow": {
     "slide_type": "slide"
    }
   },
   "source": [
    "# Building a simple articulatory synthesizer\n",
    "\n",
    "### Computer Science PhD seminar\n",
    "\n",
    "### Trevor Bekolay, Bernd Kroger, Chris Eliasmith"
   ]
  },
  {
   "cell_type": "markdown",
   "metadata": {
    "slideshow": {
     "slide_type": "slide"
    }
   },
   "source": [
    "# Goal\n",
    "\n",
    "<img src=\"img/spaun.png\" class=\"inline\" width=370> <span class=\"fragment\">\n",
    "$\\quad \\Rightarrow \\quad$\n",
    "<img src=\"img/goal.png\" class=\"inline\" width=370></span>\n",
    "\n",
    "<h3 class=\"fragment\">speed, interoperability $>$ audio quality</span>"
   ]
  },
  {
   "cell_type": "markdown",
   "metadata": {
    "slideshow": {
     "slide_type": "slide"
    }
   },
   "source": [
    "# Articulatory speech synthesis\n",
    "\n",
    "1. $\\quad\\quad\\quad$ <span class=\"fragment highlight-blue\">Vocal tract model</span>\n",
    "\n",
    "2. $\\quad\\quad\\quad$ Acoustic model\n",
    "\n",
    "3. $\\quad\\quad\\quad$ Control model"
   ]
  },
  {
   "cell_type": "markdown",
   "metadata": {
    "slideshow": {
     "slide_type": "slide"
    }
   },
   "source": [
    "# Vocal tract model: 2D Geometry\n",
    "\n",
    "<div style=\"display:inline-block;text-align:center;\">\n",
    "  <img src=\"img/mri_i.png\" width=255>\n",
    "\n",
    "  [i]\n",
    "</div>\n",
    "$\\quad$\n",
    "<div style=\"display:inline-block;text-align:center;\">\n",
    "  <img src=\"img/mri_a.png\" width=255>\n",
    "\n",
    "  [ɑ]\n",
    "</div>\n",
    "$\\quad$\n",
    "<div style=\"display:inline-block;text-align:center;\">\n",
    "  <img src=\"img/mri_u.png\" width=255>\n",
    "\n",
    "  [u]\n",
    "</div>"
   ]
  },
  {
   "cell_type": "markdown",
   "metadata": {
    "slideshow": {
     "slide_type": "slide"
    }
   },
   "source": [
    "# Phonetics\n",
    "\n",
    "<div style=\"text-align:center;\">\n",
    "<p>Studies the **sounds** of human speech.</p>\n",
    "\n",
    "<video width=\"320\" controls class=\"fragment\">\n",
    "  <source src=\"img/rt_mri.ogv\" type=\"video/ogg\">\n",
    "</video>\n",
    "\n",
    "<div class=\"fragment\">\n",
    "<p>\"Welcome...\"</p>\n",
    "<p>\"/ˈwɛl kəm/...\"</p>\n",
    "</div>\n",
    "</div>"
   ]
  },
  {
   "cell_type": "markdown",
   "metadata": {
    "slideshow": {
     "slide_type": "slide"
    }
   },
   "source": [
    "# Vowels\n",
    "\n",
    "<div style=\"text-align:center;\">\n",
    "<img src=\"img/vowels.png\" class=\"inline\" width=500>\n",
    "<p>$\\leftrightarrow$ Front-Back $\\quad\\updownarrow$ Closed-Open $\\quad\\cdot$ Unrounded-Rounded</p>\n",
    "</div>"
   ]
  },
  {
   "cell_type": "markdown",
   "metadata": {
    "slideshow": {
     "slide_type": "slide"
    }
   },
   "source": [
    "# Vowels in the synthesizer\n",
    "\n",
    "1. Extract edge contours from MRI scans of [i] [ɑ] [u] (extreme vowels).\n",
    "\n",
    "2. Interpolate between these three to modify entire vocal tract shape.\n",
    "\n",
    "\n",
    "* $\\leftrightarrow$ [i] = front, [ɑ] [u] = back\n",
    "\n",
    "* $\\updownarrow$ [ɑ] = open, [i] [u] = closed\n",
    "\n",
    "* $\\cdot$ [u] = rounded, [i] [ɑ] = unrounded"
   ]
  },
  {
   "cell_type": "code",
   "execution_count": null,
   "metadata": {
    "collapsed": false,
    "slideshow": {
     "slide_type": "slide"
    }
   },
   "outputs": [],
   "source": [
    "print type(structure)\n",
    "print\n",
    "print structure.__doc__"
   ]
  },
  {
   "cell_type": "code",
   "execution_count": null,
   "metadata": {
    "collapsed": false,
    "slideshow": {
     "slide_type": "fragment"
    }
   },
   "outputs": [],
   "source": [
    "structure.data.shape"
   ]
  },
  {
   "cell_type": "code",
   "execution_count": null,
   "metadata": {
    "collapsed": false,
    "slideshow": {
     "slide_type": "fragment"
    }
   },
   "outputs": [],
   "source": [
    "structure.labels"
   ]
  },
  {
   "cell_type": "code",
   "execution_count": null,
   "metadata": {
    "collapsed": false,
    "slideshow": {
     "slide_type": "slide"
    }
   },
   "outputs": [],
   "source": [
    "print type(SagittalContours.aa)\n",
    "print\n",
    "print SagittalContours.aa.__doc__"
   ]
  },
  {
   "cell_type": "code",
   "execution_count": null,
   "metadata": {
    "collapsed": false,
    "slideshow": {
     "slide_type": "fragment"
    }
   },
   "outputs": [],
   "source": [
    "SagittalContours.aa.data.shape"
   ]
  },
  {
   "cell_type": "code",
   "execution_count": null,
   "metadata": {
    "collapsed": false,
    "slideshow": {
     "slide_type": "fragment"
    }
   },
   "outputs": [],
   "source": [
    "SagittalContours.labels"
   ]
  },
  {
   "cell_type": "code",
   "execution_count": null,
   "metadata": {
    "collapsed": false,
    "slideshow": {
     "slide_type": "slide"
    }
   },
   "outputs": [],
   "source": [
    "art = Articulators(np.zeros(11))\n",
    "print type(art)\n",
    "print\n",
    "print art.__doc__"
   ]
  },
  {
   "cell_type": "code",
   "execution_count": null,
   "metadata": {
    "collapsed": false,
    "slideshow": {
     "slide_type": "fragment"
    }
   },
   "outputs": [],
   "source": [
    "art.data.shape"
   ]
  },
  {
   "cell_type": "code",
   "execution_count": null,
   "metadata": {
    "collapsed": false,
    "slideshow": {
     "slide_type": "fragment"
    }
   },
   "outputs": [],
   "source": [
    "Articulators.labels"
   ]
  },
  {
   "cell_type": "code",
   "execution_count": null,
   "metadata": {
    "collapsed": false,
    "slideshow": {
     "slide_type": "slide"
    }
   },
   "outputs": [],
   "source": [
    "help(SagittalContours.from_articulators)"
   ]
  },
  {
   "cell_type": "code",
   "execution_count": null,
   "metadata": {
    "collapsed": false,
    "slideshow": {
     "slide_type": "slide"
    }
   },
   "outputs": [],
   "source": [
    "art = Articulators(np.zeros(11))\n",
    "art.toDors1 = 1000  # Closed\n",
    "art.toDors2 = 1000  # Front\n",
    "# Unrounded by default\n",
    "compare(SagittalContours.ii, art)"
   ]
  },
  {
   "cell_type": "code",
   "execution_count": null,
   "metadata": {
    "collapsed": false,
    "slideshow": {
     "slide_type": "slide"
    }
   },
   "outputs": [],
   "source": [
    "art = Articulators(np.zeros(11))\n",
    "art.toDors1 = -1000  # Open\n",
    "# Front - Back doesn't matter when open\n",
    "# Unrounded by default\n",
    "compare(SagittalContours.aa, art)"
   ]
  },
  {
   "cell_type": "code",
   "execution_count": null,
   "metadata": {
    "collapsed": false,
    "slideshow": {
     "slide_type": "slide"
    }
   },
   "outputs": [],
   "source": [
    "art = Articulators(np.zeros(11))\n",
    "art.toDors1 = 1000  # Closed\n",
    "art.toDors2 = -1000  # Back\n",
    "art.lips2 = 1000  # Rounded\n",
    "compare(SagittalContours.uu, art)"
   ]
  },
  {
   "cell_type": "code",
   "execution_count": null,
   "metadata": {
    "collapsed": false,
    "slideshow": {
     "slide_type": "slide"
    }
   },
   "outputs": [],
   "source": [
    "def plot(closed, front, rounded):\n",
    "    fig = plt.figure(figsize=(5,5))\n",
    "    art = Articulators(np.zeros(11))\n",
    "    art.toDors1 = closed\n",
    "    art.toDors2 = front\n",
    "    art.lips2 = rounded\n",
    "    plot_sagittal(structure, SagittalContours.from_articulators(art), ax=plt.gca())\n",
    "    return fig\n",
    "\n",
    "StaticInteract(plot,\n",
    "               closed=RangeWidget(-1000, 1000, 500),\n",
    "               front=RangeWidget(-1000, 1000, 500),\n",
    "               rounded=RangeWidget(0, 1000, 250))"
   ]
  },
  {
   "cell_type": "markdown",
   "metadata": {
    "slideshow": {
     "slide_type": "slide"
    }
   },
   "source": [
    "# Consonants\n",
    "\n",
    "<iframe src=\"http://en.wikipedia.org/wiki/Template:IPA_chart/table_pulmonic_consonants_with_audio?printable=yes\" width=100% height=600></iframe>"
   ]
  },
  {
   "cell_type": "markdown",
   "metadata": {
    "slideshow": {
     "slide_type": "slide"
    }
   },
   "source": [
    "# Consonants in the synthesizer\n",
    "\n",
    "1. Extract edge contours from MRI scans of various consonants.\n",
    "\n",
    "2. Interpolate between these and the vocalic state in *local* portions of the vocal tract.\n",
    "\n",
    "\n",
    "* Lips: vocalic $\\leftrightarrow$ closed\n",
    "\n",
    "* Tongue tip: vocalic $\\leftrightarrow$ up\n",
    "\n",
    "* Tongue dorsum: vocalic $\\leftrightarrow$ up\n",
    "\n",
    "* Velum: up $\\leftrightarrow$ down"
   ]
  },
  {
   "cell_type": "code",
   "execution_count": null,
   "metadata": {
    "collapsed": false,
    "slideshow": {
     "slide_type": "slide"
    }
   },
   "outputs": [],
   "source": [
    "# Lips\n",
    "plt.figure(figsize=(5, 5))\n",
    "points = 100\n",
    "art = Articulators(np.zeros((11, points)))\n",
    "art.lips1 = np.linspace(0, 1000, points)\n",
    "set_vowel(art, 'a')\n",
    "animate_sagittal(structure, SagittalContours.from_articulators(art), highlight=('lips1', 'lips2'))"
   ]
  },
  {
   "cell_type": "code",
   "execution_count": null,
   "metadata": {
    "collapsed": false,
    "slideshow": {
     "slide_type": "slide"
    }
   },
   "outputs": [],
   "source": [
    "# Tongue tip\n",
    "plt.figure(figsize=(5, 5))\n",
    "points = 100\n",
    "art = Articulators(np.zeros((11, points)))\n",
    "art.toTip1 = np.linspace(0, 1000, points)\n",
    "set_vowel(art, 'a')\n",
    "animate_sagittal(structure, SagittalContours.from_articulators(art))"
   ]
  },
  {
   "cell_type": "code",
   "execution_count": null,
   "metadata": {
    "collapsed": false,
    "slideshow": {
     "slide_type": "slide"
    }
   },
   "outputs": [],
   "source": [
    "# Tongue dorsum\n",
    "plt.figure(figsize=(5, 5))\n",
    "points = 100\n",
    "art = Articulators(np.zeros((11, points)))\n",
    "art.toDors3 = np.linspace(0, 1000, points)\n",
    "set_vowel(art, 'a')\n",
    "animate_sagittal(structure, SagittalContours.from_articulators(art))"
   ]
  },
  {
   "cell_type": "code",
   "execution_count": null,
   "metadata": {
    "collapsed": false,
    "slideshow": {
     "slide_type": "slide"
    }
   },
   "outputs": [],
   "source": [
    "# Velum\n",
    "plt.figure(figsize=(5, 5))\n",
    "points = 100\n",
    "art = Articulators(np.zeros((11, points)))\n",
    "art.velum = np.linspace(0, 1000, points)\n",
    "set_vowel(art, 'a')\n",
    "animate_sagittal(structure, SagittalContours.from_articulators(art), highlight='velum')"
   ]
  },
  {
   "cell_type": "markdown",
   "metadata": {
    "slideshow": {
     "slide_type": "slide"
    }
   },
   "source": [
    "# Acoustic model: <br> reflection-type line analog\n",
    "\n",
    "<img src=\"img/kl-tubes.png\" width=100%>\n",
    "\n",
    "* Liljencrants, Johan. *Speech synthesis with a reflection-type line analog.* PhD Thesis, 1985.\n",
    "* Veldhuis, Raymond. \"A computationally efficient alternative for the Liljencrants–Fant model and its perceptual evaluation.\" *Journal of the Acoustical Society of America* 103.1 (1998): 566-571."
   ]
  },
  {
   "cell_type": "markdown",
   "metadata": {
    "slideshow": {
     "slide_type": "slide"
    }
   },
   "source": [
    "# Step 1: Calculate area function from 2D geometry\n",
    "\n",
    "<ol>\n",
    "<li class=\"fragment\">$\\quad\\quad$ Segment vocal tract into $n$ sections.</li>\n",
    "<li class=\"fragment\">$\\quad\\quad$ Calculate the area of each section.</li>\n",
    "</ol>"
   ]
  },
  {
   "cell_type": "code",
   "execution_count": null,
   "metadata": {
    "collapsed": false,
    "slideshow": {
     "slide_type": "skip"
    }
   },
   "outputs": [],
   "source": [
    "# Generate midline\n",
    "from collections import namedtuple\n",
    "from matplotlib import animation\n",
    "from shapely.geometry import Point, LineString\n",
    "\n",
    "def longest_line(mls):\n",
    "    if isinstance(mls, LineString):\n",
    "        return mls\n",
    "    guess = list(mls)[0]\n",
    "    for line in list(mls):\n",
    "        if line.length > guess.length:\n",
    "            guess = line\n",
    "    return guess\n",
    "\n",
    "def midline_f(uls, lls):\n",
    "    def midline(x):\n",
    "        upt = uls.interpolate(x, normalized=True)\n",
    "        lpt = lls.interpolate(1.-x, normalized=True)\n",
    "        return (upt.x + lpt.x) * 0.5, (upt.y + lpt.y) * 0.5\n",
    "    return lambda x: np.array(np.vectorize(midline)(x))\n",
    "\n",
    "Lines = namedtuple('Lines', ['uls', 'lls', 's_uls', 's_lls', 'ml'])\n",
    "shift = 75000\n",
    "n_area_points = 21\n",
    "lines = []\n",
    "\n",
    "for i in xrange(upline.shape[1]):\n",
    "    uls = LineString(upline[:,i,:])\n",
    "    lls = LineString(lowline[:,i,:])\n",
    "    shifted_uls = longest_line(uls.parallel_offset(shift, 'left'))\n",
    "    shifted_lls = longest_line(lls.parallel_offset(shift, 'right'))\n",
    "    shifted_uls = longest_line(shifted_uls.parallel_offset(shift, 'right'))\n",
    "    shifted_lls = longest_line(shifted_lls.parallel_offset(shift, 'right'))\n",
    "    x = np.linspace(1-0.01, 0+0.01, n_area_points)\n",
    "    mid_f = midline_f(shifted_uls, shifted_lls)\n",
    "    ml = mid_f(x)\n",
    "    lines.append(Lines(uls, lls, shifted_uls, shifted_lls, ml))"
   ]
  },
  {
   "cell_type": "code",
   "execution_count": null,
   "metadata": {
    "collapsed": false,
    "slideshow": {
     "slide_type": "slide"
    }
   },
   "outputs": [],
   "source": [
    "plt.figure(figsize=(7,6)); plt.gca().set_aspect(1.0); plt.xticks(()); plt.yticks(())\n",
    "start, = plt.plot([lines[0].ml[0, 0], lines[0].uls.xy[0][0], lines[0].lls.xy[0][0]],\n",
    "                  [lines[0].ml[1, 0], lines[0].uls.xy[1][0], lines[0].lls.xy[1][0]], 'o', c='k')\n",
    "u_line, = plt.plot(lines[0].uls.xy[0], lines[0].uls.xy[1], c='b', lw=2)\n",
    "l_line, = plt.plot(lines[0].lls.xy[0], lines[0].lls.xy[1], c='b', lw=2)\n",
    "su_line, = plt.plot(lines[0].s_uls.xy[0], lines[0].s_uls.xy[1], c='r', lw=2)\n",
    "sl_line, = plt.plot(lines[0].s_lls.xy[0], lines[0].s_lls.xy[1], c='r', lw=2)\n",
    "ml_line, = plt.plot(lines[0].ml[0], lines[0].ml[1], c='k', lw=1)\n",
    "def update(i):\n",
    "    start.set_data([lines[i].ml[0, 0], lines[i].uls.xy[0][0], lines[i].lls.xy[0][0]],\n",
    "                   [lines[i].ml[1, 0], lines[i].uls.xy[1][0], lines[i].lls.xy[1][0]])\n",
    "    u_line.set_data(lines[i].uls.xy[0], lines[i].uls.xy[1])\n",
    "    l_line.set_data(lines[i].lls.xy[0], lines[i].lls.xy[1])\n",
    "    su_line.set_data(lines[i].s_uls.xy[0], lines[i].s_uls.xy[1])\n",
    "    sl_line.set_data(lines[i].s_lls.xy[0], lines[i].s_lls.xy[1])\n",
    "    ml_line.set_data(lines[i].ml[0], lines[i].ml[1])\n",
    "    return start, u_line, l_line, su_line, sl_line, ml_line\n",
    "animation.FuncAnimation(plt.gcf(), update, frames=len(lines), blit=True)"
   ]
  },
  {
   "cell_type": "code",
   "execution_count": null,
   "metadata": {
    "collapsed": false,
    "slideshow": {
     "slide_type": "skip"
    }
   },
   "outputs": [],
   "source": [
    "# Generate area function\n",
    "from shapely.geometry import Polygon, MultiPoint\n",
    "from descartes.patch import PolygonPatch\n",
    "\n",
    "def line_between(line, perp_line1, perp_line2):\n",
    "    coords = list(line.coords)\n",
    "    dists = sorted([line.project(pl.intersection(line)) for pl in (perp_line1, perp_line2)])\n",
    "    lpt, upt = line.interpolate(dists[0]), line.interpolate(dists[1])\n",
    "    for i, p in enumerate(coords):\n",
    "        pd = line.project(Point(p))\n",
    "        if pd >= dists[0]:\n",
    "            lix = i\n",
    "            break\n",
    "    else:\n",
    "        lix = None\n",
    "    for i, p in enumerate(reversed(coords)):\n",
    "        pd = line.project(Point(p))\n",
    "        if pd <= dists[1]:\n",
    "            uix = len(coords) - i\n",
    "            break\n",
    "    else:\n",
    "        uix = None\n",
    "    return LineString([(lpt.x, lpt.y)] + coords[lix: uix] + [(upt.x, upt.y)])\n",
    "\n",
    "def perp_lines(ml, scale=2.6):\n",
    "    pls = []\n",
    "    for (x1, y1), (x2, y2) in zip(ml.T[:-1], ml.T[1:]):\n",
    "        mid = Point((x1 + x2) * 0.5, (y1 + y2) * 0.5)\n",
    "        dx, dy = x2 - x1, y2 - y1\n",
    "        perp_line = LineString([(mid.x - scale * dy, mid.y + scale * dx),\n",
    "                                (mid.x + scale * dy, mid.y - scale * dx)])\n",
    "        pls.append(perp_line)\n",
    "    return pls\n",
    "\n",
    "def polygons(perp_lines, lls, uls, scale=2.6):\n",
    "    p = []\n",
    "    for p1, p2 in zip(perp_lines[:-1], perp_lines[1:]):\n",
    "        cut_lls = line_between(lls, p1, p2)\n",
    "        cut_uls = line_between(uls, p1, p2)\n",
    "        p.append(Polygon(list(cut_lls.coords) + list(p1.coords) + list(cut_uls.coords) + list(p2.coords)))\n",
    "    return p\n",
    "\n",
    "def area_f(polys):\n",
    "    return np.asarray([p.area / 1e10 for p in polys])  # NB: Figure out the right factor here!!\n",
    "\n",
    "uls, lls, s_uls, s_lls, ml = lines[0]\n",
    "pls = perp_lines(ml)\n",
    "polys = polygons(pls, s_uls, s_lls)\n",
    "area_0 = area_f(polys)"
   ]
  },
  {
   "cell_type": "code",
   "execution_count": null,
   "metadata": {
    "collapsed": false,
    "slideshow": {
     "slide_type": "slide"
    }
   },
   "outputs": [],
   "source": [
    "plt.figure(figsize=(15,5))\n",
    "plt.subplot(131); plt.xticks(()); plt.yticks(()); plt.gca().set_aspect(1.0)\n",
    "plt.plot(uls.xy[0], uls.xy[1], c='b', lw=2)\n",
    "plt.plot(lls.xy[0], lls.xy[1], c='b', lw=2)\n",
    "plt.plot(ml[0], ml[1], c='k', lw=1)\n",
    "for (x1, y1), (x2, y2) in zip(ml.T[:-1], ml.T[1:]):\n",
    "    plt.plot((x1 + x2) * 0.5, (y1 + y2) * 0.5, 'o', c='k')\n",
    "for pl in pls:\n",
    "    lpt = pl.intersection(s_lls)\n",
    "    upt = pl.intersection(s_uls)\n",
    "    plt.plot([lpt.x, upt.x], [lpt.y, upt.y], '-o', lw=2, c='r')\n",
    "plt.subplot(132); plt.xticks(()); plt.yticks(()); plt.gca().set_aspect(1.0)\n",
    "plt.plot(ml[0], ml[1], c='k', lw=1)\n",
    "for poly in polys:\n",
    "    plt.gca().add_patch(PolygonPatch(poly))\n",
    "plt.xlim(plt.xlim()[0], plt.xlim()[1] * 1.1)\n",
    "plt.ylim(plt.ylim()[0], plt.ylim()[1] * 1.1)\n",
    "plt.subplot(133)\n",
    "plt.bar(range(len(area_0)), area_0);"
   ]
  },
  {
   "cell_type": "code",
   "execution_count": null,
   "metadata": {
    "collapsed": false,
    "slideshow": {
     "slide_type": "skip"
    }
   },
   "outputs": [],
   "source": [
    "all_areas = []\n",
    "for uls, lls, s_uls, s_lls, ml in lines:\n",
    "    polys = polygons(perp_lines(ml), s_uls, s_lls)\n",
    "    all_areas.append(area_f(polys))"
   ]
  },
  {
   "cell_type": "markdown",
   "metadata": {
    "slideshow": {
     "slide_type": "slide"
    }
   },
   "source": [
    "# Step 2: Glottal signal\n",
    "\n",
    "Vocal folds oscillate quickly (400+ Hz)\n",
    "during voiced phonemes to produce sound.\n",
    "\n",
    "Model: send pulse of \"current\" through the tubes\n",
    "for each oscillation."
   ]
  },
  {
   "cell_type": "code",
   "execution_count": null,
   "metadata": {
    "collapsed": false,
    "slideshow": {
     "slide_type": "skip"
    }
   },
   "outputs": [],
   "source": [
    "# Use area function to create audio signal\n",
    "\n",
    "# Part 1: glottal signal\n",
    "def glottal_sig(t, articulators):\n",
    "    voFoTen = articulators.voFoTen[0]\n",
    "    voFoPos = articulators.voFoPos[0]\n",
    "    sampfac = 20000. / 1000.  # sampling every 5ms, so need \n",
    "    glottF0 = voFoTen[0] * 0.2\n",
    "    assert glottF0 < float('inf')\n",
    "    glottT0S = 1000.0 / glottF0\n",
    "    glottT0 = int(sampfac * glottT0S)\n",
    "    glottAmp = -50.0\n",
    "    glottTp = 0.4 * glottT0\n",
    "    glottTe = int(0.55 * glottT0)\n",
    "    glottTa = 0.02 * glottT0\n",
    "    glottTpS = 0.4 * glottT0S\n",
    "    glottTeS = 0.55 * glottT0S\n",
    "    glottTaS = 0.005 * glottT0S\n",
    "    fac01S = (glottT0S - glottTeS) / glottTaS\n",
    "    glottDS = 1.0 - fac01S / (np.exp(fac01S) - 1.0)\n",
    "    glottTxS = glottTeS * (1.0 - glottTeS * (0.5 * glottTeS-glottTpS)\n",
    "                           / (glottTeS * (2.0 * glottTeS - 3.0 * glottTpS)\n",
    "                              + 6.0 * glottTaS * (glottTeS - glottTpS) * glottDS))\n",
    "    glottPulse = np.zeros(glottT0)\n",
    "    iS = np.arange(glottTe + 1) / sampfac\n",
    "    glottPulse[:glottTe+1] = glottAmp * iS * iS * (iS * iS - (4.0 / 3.0) * iS * (glottTpS + glottTxS) + 2.0 * glottTpS * glottTxS)\n",
    "    #\n",
    "    iS = np.arange(glottTe, glottT0) / sampfac\n",
    "    fac02S = glottPulse[glottTe+1]\n",
    "    fac03S = glottTaS * 4.0 * glottAmp * iS[0] * (glottTpS - iS[0]) * (glottTxS - iS[0])\n",
    "    fac04S = (iS[1:] - glottTeS) / glottTaS\n",
    "    fac05S = (glottT0S - glottTeS) / glottTaS\n",
    "    glottPulse[glottTe+1:glottT0] =  fac02S + fac03S * (1.0 - np.exp(-fac04S) - fac04S * np.exp(-fac05S)\n",
    "                                                        ) / (1.0 - np.exp(-fac05S))\n",
    "    #\n",
    "    glottPulse[glottTe+1:glottT0] -= glottPulse[-1]\n",
    "    #\n",
    "    glottSig = np.zeros(int(t.shape[0] * sampfac))  # sample in between times\n",
    "    phobeg = np.where(voFoPos < 20)[0][0]\n",
    "    phoend = np.where(voFoPos[phobeg:] > 20)[0][0] + phobeg\n",
    "    phobeg *= int(sampfac)\n",
    "    phoend *= int(sampfac)\n",
    "    #\n",
    "    pulseBeg = np.arange(phobeg, phoend, glottT0)\n",
    "    pulseEnd = pulseBeg + glottT0\n",
    "    pulseMaxExcit = pulseBeg + glottTe\n",
    "    # Paste glottPulse at each pulseBeg\n",
    "    for pulse in pulseBeg:\n",
    "        glottSig[pulse:pulse + glottT0] += glottPulse\n",
    "    #\n",
    "    glott2Sig = np.diff(glottSig) * 10.0  # Not sure why * 10.0...\n",
    "    kPulse = t[np.asarray(pulseEnd // sampfac, dtype=int)]\n",
    "    \n",
    "    return (glottSig, glott2Sig, pulseBeg, glottTe, glottT0,\n",
    "            np.hstack([glottPulse, np.ones(glottTe * 2 - glottPulse.size) * glottPulse[-1]])) # extended glottPulse"
   ]
  },
  {
   "cell_type": "code",
   "execution_count": null,
   "metadata": {
    "collapsed": false,
    "slideshow": {
     "slide_type": "slide"
    }
   },
   "outputs": [],
   "source": [
    "gs, gsdiff, pb, te, t0, glottPulse = glottal_sig(t, ga)\n",
    "plt.figure(figsize=(12, 6))\n",
    "plt.subplot(121)\n",
    "plt.plot(glottPulse); plt.plot(np.diff(glottPulse))\n",
    "plt.xlim(right=150); plt.xticks(()), plt.yticks(())\n",
    "plt.subplot(122)\n",
    "plt.plot(gs); plt.plot(gsdiff)\n",
    "plt.xlim(right=3200); plt.xticks(()), plt.yticks(());"
   ]
  },
  {
   "cell_type": "markdown",
   "metadata": {
    "slideshow": {
     "slide_type": "slide"
    }
   },
   "source": [
    "# Step 3: Wave propagation\n",
    "\n",
    "Simulate the current propagating through the tubes of different impedance."
   ]
  },
  {
   "cell_type": "markdown",
   "metadata": {
    "slideshow": {
     "slide_type": "slide"
    }
   },
   "source": [
    "<div style=\"display:inline-block;vertical-align:middle;\">\n",
    "  <img src=\"img/ga-mouthsig.png\" class=\"inline\" width=\"280\">\n",
    "</div>\n",
    "<div style=\"display:inline-block;vertical-align:middle;\">\n",
    "  <img src=\"img/ga-mouthsig-all.png\" class=\"inline\" width=\"450\"> <br>  \n",
    "  <img src=\"img/ga-mouthsig-all-2.png\" class=\"inline\" width=\"450\">\n",
    "</div>"
   ]
  },
  {
   "cell_type": "code",
   "execution_count": null,
   "metadata": {
    "collapsed": false
   },
   "outputs": [],
   "source": [
    "import os\n",
    "Audio(os.path.expanduser('~/Dropbox/bjk_synth/__datacache__/mouth.wav'))"
   ]
  },
  {
   "cell_type": "markdown",
   "metadata": {
    "slideshow": {
     "slide_type": "slide"
    }
   },
   "source": [
    "# Control model: gestures\n",
    "\n",
    "Each phoneme is manually timed and mapped to a set of gestures.\n",
    "\n",
    "<img src=\"img/ga-traj.png\" class=\"fragment\" width=\"100%\">"
   ]
  },
  {
   "cell_type": "markdown",
   "metadata": {
    "slideshow": {
     "slide_type": "slide"
    }
   },
   "source": [
    "Each gesture is mapped to a set of desired articulator states.\n",
    "\n",
    "<img src=\"img/ga-traj-2.png\" class=\"fragment\" width=\"100%\">"
   ]
  },
  {
   "cell_type": "markdown",
   "metadata": {
    "slideshow": {
     "slide_type": "slide"
    }
   },
   "source": [
    "# Summary\n",
    "\n",
    "Articulatory synthesizers are made up of a vocal tract model, acoustic model, and control model."
   ]
  },
  {
   "cell_type": "markdown",
   "metadata": {
    "slideshow": {
     "slide_type": "fragment"
    }
   },
   "source": [
    "I showed you a simple 2D geometrical vocal tract model,\n",
    "and a simple reflection-type line analog acoustic model."
   ]
  },
  {
   "cell_type": "markdown",
   "metadata": {
    "slideshow": {
     "slide_type": "fragment"
    }
   },
   "source": [
    "Next steps: finish the acoustic model,\n",
    "implement a neural control model."
   ]
  },
  {
   "cell_type": "code",
   "execution_count": null,
   "metadata": {
    "collapsed": false,
    "slideshow": {
     "slide_type": "skip"
    }
   },
   "outputs": [],
   "source": [
    "# Part 2: window signal\n",
    "def window_sig(glottTe, glottT0, glottLen):\n",
    "    winSig = np.zeros(glottLen)\n",
    "    winSig[:glottTe] = 0.5 + 0.5 * np.cos((glottTe - np.arange(glottTe)) * np.pi / glottTe)\n",
    "    winSig[glottTe:glottT0] = 1.0\n",
    "    winSig[glottT0:] = 0.5 + 0.5 * np.cos((np.arange(glottT0, glottLen) - glottT0) * np.pi / (glottLen - glottT0))\n",
    "    return winSig\n",
    "\n",
    "gs, gsdiff, pb, te, t0, glottPulse = glottal_sig(t, ga)\n",
    "ws = window_sig(te, t0, te * 2)\n",
    "plt.plot(ws, lw=2, c='k')\n",
    "plt.twinx()\n",
    "plt.plot(glottPulse, lw=2)\n",
    "plt.plot(glottPulse * ws, lw=2)"
   ]
  },
  {
   "cell_type": "code",
   "execution_count": null,
   "metadata": {
    "collapsed": false,
    "slideshow": {
     "slide_type": "skip"
    }
   },
   "outputs": [],
   "source": [
    "# Part 3: tract pulse\n",
    "\n",
    "def mue_f(areas):\n",
    "    ari = np.hstack([[5, 0.5], areas])\n",
    "    mue = np.diff(ari)\n",
    "    mue /= (ari[:-1] + ari[1:])\n",
    "    mue[np.isinf(mue)] = 0.0\n",
    "    return ari, mue\n",
    "\n",
    "def tract_pulse(areas, glottSigEx, pulseDur):\n",
    "    Rho = 1.14e-3;\n",
    "    Visc = 1.86e-4;\n",
    "    vSchall = 35000.\n",
    "    v2Schall = 2.0*35000.0\n",
    "    tSamp = 1.0/20000.0\n",
    "    ## \n",
    "    dWabFac = 0.01 \n",
    "    ##\n",
    "    dWabNasFac = 0.016956\n",
    "    ##\n",
    "    dVisFac = 0.005 \n",
    "    ## Wallvibrations \n",
    "    kWal = 255.0\n",
    "    oMinE = 1.0 - 50.* 2.* np.pi * tSamp;\n",
    "    ## Laminar dc-flow loss \n",
    "    dLamFac = 4.0 * np.pi * Visc / (Rho * vSchall)\n",
    "    ## Jet losses \n",
    "    dJetFac\t= 0.5 / vSchall\n",
    "    ###################################################################\n",
    "    ulipalt = 0.0\n",
    "    plusalt = 0.0\n",
    "    minusalt = 0.0\n",
    "    u2altWal = 0.0\n",
    "    p2altWal = 0.0\n",
    "    u1altWal = 0.0\n",
    "    p1altWal = 0.0\n",
    "    mouthSigEx = np.zeros(glottSigEx.shape[0])\n",
    "\n",
    "    ari, mue = mue_f(areas)\n",
    "\n",
    "    dampFac = 0.99\n",
    "    \n",
    "    plus = np.zeros_like(ari)\n",
    "    minus = np.zeros_like(ari)\n",
    "    mSig = 0.0\n",
    "    j2 = 0\n",
    "    j2end = 250\n",
    "    ari1beg = 0.5\n",
    "    ari1max = 5.0 \n",
    "    ariStep = (ari1max-ari1beg) / j2end\n",
    "    a = 0.0779 + 0.2373 * np.sqrt(areas[-1])\n",
    "    b = -0.8430 + 0.3062 * np.sqrt(areas[-1])\n",
    "\n",
    "    for j in range(glottSigEx.shape[0]):\n",
    "        if j > pulseDur:\n",
    "            j2 += 1\n",
    "            ari[1] = min(ari1beg + ariStep * j2, ari1max)\n",
    "            mue[1] = (ari[2] - ari[1]) / (ari[2] + ari[1])\n",
    "\n",
    "        # Tract:\n",
    "        plus[1] = glottSigEx[j]\n",
    "\n",
    "        for i in range(1, len(areas) - 1, 2):\n",
    "            if i == 5:\n",
    "                pWal = plus[i] + minus[i] * Rho * vSchall / ari[i]\n",
    "                pWal = (pWal - p1altWal) / 20. + p1altWal\n",
    "                uWal = (p1altWal - p2altWal) / kWal + oMinE * (2.0 * u1altWal - oMinE * u2altWal)\n",
    "                u2altWal = u1altWal\n",
    "                p2altWal = p1altWal\n",
    "                u1altWal = uWal\n",
    "                p1altWal = pWal\n",
    "            dum = dampFac * mue[i] * (plus[i] + minus[i + 1])\n",
    "            plus[i + 1] = plus[i] + dum\n",
    "            minus[i] = minus[i + 1] - dum\n",
    "            if i == 5:\n",
    "                plus[i + 1] -= (1 + mue[i]) * uWal\n",
    "                minus[i] -= (1 - mue[i]) * uWal\n",
    "\n",
    "        for i in range(2, len(areas) - 1, 2):\n",
    "            dum = mue[i] * (plus[i] + minus[i + 1])\n",
    "            minus[i] = minus[i + 1] - dum\n",
    "            if i == 8:\n",
    "                plus[i + 1] = 0.8 * (plus[i] + dum)\n",
    "                plus[i + 3] = 0.2 * (plus[i] + dum)\n",
    "            else:\n",
    "                plus[i + 1] = plus[i] + dum\n",
    "\n",
    "        ulip = ((a + b) * ulipalt + 2. * plus[-1] - 2.0 * b * plusalt) / (a + 1.0)\n",
    "        minus[-1] = ((a + b) * minusalt + (a - 1.0) * plus[-1] + (b - a) * plusalt) / (a + 1.0)\n",
    "        mouthSigEx[j] = (ulip - ulipalt) * 10.0 + uWal * 0.1\n",
    "        ulipalt = ulip\n",
    "        plusalt = plus[-1]\n",
    "        minusalt = minus[-1]\n",
    "\n",
    "    return mouthSigEx\n",
    "\n",
    "gs, gsdiff, pb, te, t0, pulse = glottal_sig(t, ga)\n",
    "ws = window_sig(te, t0, te * 2)\n",
    "t_pulse = tract_pulse(area_0, pulse, t0)\n",
    "wt_pulse = tract_pulse(area_0, pulse * ws, t0)\n",
    "plt.plot(t_pulse)\n",
    "plt.plot(wt_pulse)"
   ]
  },
  {
   "cell_type": "code",
   "execution_count": null,
   "metadata": {
    "collapsed": false,
    "slideshow": {
     "slide_type": "skip"
    }
   },
   "outputs": [],
   "source": [
    "gs, gsdiff, pb, te, t0, glottPulse = glottal_sig(t, ga)\n",
    "ws = window_sig(te, t0, te * 2)\n",
    "w_pulse = ws[:-1] * np.diff(pulse)\n",
    "\n",
    "audio = np.array(gs) * 0.001\n",
    "\n",
    "for pix in pb:\n",
    "    # 20 = sampfac in glottal_sig\n",
    "    audio[pix: pix+te*2-1] += tract_pulse(all_areas[pix / 20], w_pulse, t0)\n",
    "\n",
    "plt.plot(audio)"
   ]
  },
  {
   "cell_type": "code",
   "execution_count": null,
   "metadata": {
    "collapsed": false,
    "slideshow": {
     "slide_type": "skip"
    }
   },
   "outputs": [],
   "source": [
    "from IPython.display import Audio\n",
    "Audio(audio, rate=20000)"
   ]
  }
 ],
 "metadata": {
  "celltoolbar": "Slideshow",
  "kernelspec": {
   "display_name": "Python 2",
   "language": "python",
   "name": "python2"
  },
  "language_info": {
   "codemirror_mode": {
    "name": "ipython",
    "version": 2
   },
   "file_extension": ".py",
   "mimetype": "text/x-python",
   "name": "python",
   "nbconvert_exporter": "python",
   "pygments_lexer": "ipython2",
   "version": "2.7.10"
  }
 },
 "nbformat": 4,
 "nbformat_minor": 0
}
